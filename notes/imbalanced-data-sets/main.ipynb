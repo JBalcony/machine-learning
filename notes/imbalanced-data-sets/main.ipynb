{
 "cells": [
  {
   "cell_type": "code",
   "execution_count": 19,
   "metadata": {},
   "outputs": [],
   "source": [
    "# To support both python 2 and python 3\n",
    "from __future__ import division, print_function, unicode_literals\n",
    "\n",
    "# Common imports\n",
    "import numpy as np\n",
    "import pandas as pd\n",
    "import os\n",
    "\n",
    "# to make this notebook's output stable across runs\n",
    "np.random.seed(42)\n",
    "\n",
    "# To plot pretty figures\n",
    "%matplotlib inline\n",
    "import matplotlib as mpl\n",
    "import matplotlib.pyplot as plt\n",
    "\n",
    "\n",
    "\n",
    "# Ignore useless warnings (see SciPy issue #5998)\n",
    "# import warnings\n",
    "# warnings.filterwarnings(action=\"ignore\", message=\"^internal gelsd\")\n",
    "\n",
    "\n",
    "from sklearn.datasets import make_classification\n"
   ]
  },
  {
   "cell_type": "code",
   "execution_count": 12,
   "metadata": {},
   "outputs": [],
   "source": [
    "# Paths ...\n",
    "PROJECT_ROOT_DIR = os.getcwd()\n",
    "# PATH_TO_DATA = os.path.join(PROJECT_ROOT_DIR, os.pardir, os.pardir, os.pardir, 'data') # TODO make cross\n",
    "# PATH_TO_DATA = '...'  # TODO make cross"
   ]
  },
  {
   "cell_type": "markdown",
   "metadata": {},
   "source": [
    "# Imbalanced datasets\n",
    "\n",
    "\n",
    "## Table of content\n",
    "1. [What is imbalanced dataset](#imbalanced-dataset)\n",
    "    1. [How Know if data not balanced](#)\n",
    "    2. [Side effects](#)\n",
    "    3. [Can we learn from imbalanced data](#)\n",
    "    4. [What to do ?](#)\n",
    "2. [Oversampling](#)\n",
    "    1. [solutions](#)\n",
    "    2. [limitations](#)\n",
    "3. [Undersampling](#)\n",
    "    1. [solutions](#)\n",
    "    2. [limitations](#)\n",
    "4. [Combine Oversampling and Undersampling](#)\n",
    "5. [Summary](#summary)\n",
    "6. [Resources](#)"
   ]
  },
  {
   "cell_type": "markdown",
   "metadata": {},
   "source": [
    "## Imbalanced dataset\n",
    "<a id=\"imbalanced-dataset\"></a>\n",
    "\n",
    "**Imbalanced dataset** when number of samples which belong to one class dominate the whole dataset.\n",
    "\n",
    "> \" A dataset is imbalanced if at least one of the classes constitutes only a very small minority. \" [[3.3.]](#resources)\n",
    "\n",
    "<!-- ![img](./images/imbalanced-data.png) -->\n",
    "<figure>\n",
    "    <figcaption>src [4.1.] img.</figcaption>\n",
    "    <img src=\"./images/imbalanced-data.png\" width=\"400\" height=\"400\" />\n",
    "</figure>\n",
    "\n",
    "\n",
    "1. Does imbalanced dataset appear just in binary dataset?\n",
    "2. Does imbalanced dataset appear in multi label dataset?\n",
    "\n",
    "> Imbalanced data prevail in banking, insurance, engineering, and many other fields. It is common in fraud detection that the imbalance is on the order of 100 to 1.\n",
    "\n",
    "### How Know if data not balanced\n",
    "> TODO ...\n",
    "\n",
    "### Side effects\n",
    "Imbalanced dataset can cause bad side effects on ML algo. like neural networks, SVM etc.\n",
    "\n",
    "1. ML will ignore the minority class entirely.\n",
    "\n",
    "\n",
    "\n",
    "The learning phase and the subsequent prediction of machine learning algorithms can be affected by the problem of imbalanced data set. The balancing issue corresponds to the difference of the number of samples in the different classes. We illustrate the effect of training a linear SVM classifier with different level of class balancing.[[3.2.]](#resources)\n",
    "\n",
    "<figure>\n",
    "    <figcaption>src [4.2.] img.</figcaption>\n",
    "    <img src=\"./images/sphx_glr_plot_comparison_over_sampling_0011.png\" width=\"400\" height=\"400\" />\n",
    "</figure>\n",
    "\n",
    "\n",
    "\n",
    "\n",
    "### Can we learn from imbalanced data\n",
    "**Oversampling and undersampling** a set of techniques used to adjust the ratio of samples in dataset. [[3.1.]](#resources)\n",
    "> TODO ...\n",
    "\n",
    "### What to do ?\n",
    "> TODO ..."
   ]
  },
  {
   "cell_type": "code",
   "execution_count": 47,
   "metadata": {},
   "outputs": [
    {
     "data": {
      "image/png": "[encoded data removed]",
      "text/plain": [
       "<Figure size 432x288 with 1 Axes>"
      ]
     },
     "metadata": {
      "needs_background": "light"
     },
     "output_type": "display_data"
    }
   ],
   "source": [
    "X, y = make_classification(\n",
    "    n_samples=10000,\n",
    "    n_features=2,\n",
    "    n_redundant=0,\n",
    "    n_clusters_per_class=1,\n",
    "    weights=[0.99],\n",
    "    flip_y=0,\n",
    "    random_state=1\n",
    ")\n",
    "\n",
    "\n",
    "idx0 = np.where(y == 0)[0]\n",
    "idx1 = np.where(y == 1)[0]\n",
    "plt.plot(X[idx0, 0], X[idx0, 1], '*', label='0')\n",
    "plt.plot(X[idx1, 0], X[idx1, 1], '+', label='1')\n",
    "plt.show();"
   ]
  },
  {
   "cell_type": "code",
   "execution_count": null,
   "metadata": {},
   "outputs": [],
   "source": []
  },
  {
   "cell_type": "code",
   "execution_count": null,
   "metadata": {},
   "outputs": [],
   "source": []
  },
  {
   "cell_type": "markdown",
   "metadata": {},
   "source": [
    "# TODO\n",
    "\n",
    "https://www.google.com/search?q=under-sampling&oq=under-sam&aqs=chrome.1.69i57j0l6j69i60.4745j0j7&sourceid=chrome&ie=UTF-8\n",
    "\n",
    "\n",
    "https://www.google.com/search?q=oversampling+undersampling&hl=pl&sxsrf=ALeKk031-jdzqaKJnxHf2CmIMMtd73RRzQ:1594037502718&source=lnms&sa=X&ved=0ahUKEwi1re64zLjqAhVDxosKHRtpD1UQ_AUICSgA&biw=1536&bih=722&dpr=1.25\n",
    "\n",
    "\n",
    "https://towardsdatascience.com/sampling-techniques-for-extremely-imbalanced-data-part-i-under-sampling-a8dbc3d8d6d8\n",
    "\n",
    "https://machinelearningmastery.com/combine-oversampling-and-undersampling-for-imbalanced-classification/\n",
    "\n",
    "\n",
    "\n",
    "https://machinelearningmastery.com/random-oversampling-and-undersampling-for-imbalanced-classification/\n",
    "\n",
    "https://medium.com/quantyca/oversampling-and-undersampling-adasyn-vs-enn-60828a58db39"
   ]
  },
  {
   "cell_type": "markdown",
   "metadata": {},
   "source": [
    "## Summary\n",
    "<a id=\"summary\"></a>\n",
    "\n",
    "\n",
    "1. The balancing issue corresponds to the difference of the number of samples in the different classes."
   ]
  },
  {
   "cell_type": "markdown",
   "metadata": {},
   "source": [
    "## Resources\n",
    "<a id=\"resources\"></a>\n",
    "\n",
    "### Books\n",
    "\n",
    "### Papers\n",
    "\n",
    "### Web\n",
    "1. [[3.1.] Wiki, Oversampling and undersampling in data analysis](https://en.wikipedia.org/wiki/Oversampling_and_undersampling_in_data_analysis)\n",
    "2. [[3.2.] Introduction](https://imbalanced-learn.readthedocs.io/en/stable/introduction.html)\n",
    "3. [[3.3.] Using Under-Sampling Techniques for Extremely Imbalanced Data](https://towardsdatascience.com/sampling-techniques-for-extremely-imbalanced-data-part-i-under-sampling-a8dbc3d8d6d8)\n",
    "\n",
    "### Images\n",
    "1. [[4.1.] dealing with imbalanced data](https://medium.com/@SeoJaeDuk/archived-post-dealing-with-imbalanced-data-577f024c8681)\n",
    "2. [[4.2.] Problem statement regarding imbalanced data sets](https://imbalanced-learn.readthedocs.io/en/stable/introduction.html)"
   ]
  }
 ],
 "metadata": {
  "kernelspec": {
   "display_name": "Python 3",
   "language": "python",
   "name": "python3"
  },
  "language_info": {
   "codemirror_mode": {
    "name": "ipython",
    "version": 3
   },
   "file_extension": ".py",
   "mimetype": "text/x-python",
   "name": "python",
   "nbconvert_exporter": "python",
   "pygments_lexer": "ipython3",
   "version": "3.8.3"
  }
 },
 "nbformat": 4,
 "nbformat_minor": 4
}
